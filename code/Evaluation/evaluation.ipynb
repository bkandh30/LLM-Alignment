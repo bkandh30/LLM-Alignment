{
 "cells": [
  {
   "cell_type": "code",
   "execution_count": 1,
   "metadata": {},
   "outputs": [],
   "source": [
    "from transformers import AutoTokenizer, AutoModelForCausalLM, pipeline\n",
    "from datasets import load_dataset\n",
    "import torch "
   ]
  },
  {
   "cell_type": "code",
   "execution_count": 2,
   "metadata": {},
   "outputs": [],
   "source": [
    "from collections import defaultdict"
   ]
  },
  {
   "cell_type": "code",
   "execution_count": 3,
   "metadata": {},
   "outputs": [
    {
     "data": {
      "application/vnd.jupyter.widget-view+json": {
       "model_id": "7926ab03d72941eb9dd608ae61f64c3e",
       "version_major": 2,
       "version_minor": 0
      },
      "text/plain": [
       "VBox(children=(HTML(value='<center> <img\\nsrc=https://huggingface.co/front/assets/huggingface_logo-noborder.sv…"
      ]
     },
     "metadata": {},
     "output_type": "display_data"
    }
   ],
   "source": [
    "#login to huggingface hub\n",
    "from huggingface_hub import login\n",
    "login()"
   ]
  },
  {
   "cell_type": "code",
   "execution_count": 4,
   "metadata": {},
   "outputs": [],
   "source": [
    "MODEL_NAME = \"meta-llama/Meta-Llama-3.1-8B-Instruct\" "
   ]
  },
  {
   "cell_type": "code",
   "execution_count": 5,
   "metadata": {},
   "outputs": [
    {
     "name": "stdout",
     "output_type": "stream",
     "text": [
      "Loading model and tokenizer...\n"
     ]
    },
    {
     "name": "stderr",
     "output_type": "stream",
     "text": [
      "/scratch/aseth7/conda-envs/dm-proj/lib/python3.10/site-packages/transformers/models/auto/tokenization_auto.py:809: FutureWarning: The `use_auth_token` argument is deprecated and will be removed in v5 of Transformers. Please use `token` instead.\n",
      "  warnings.warn(\n"
     ]
    },
    {
     "name": "stderr",
     "output_type": "stream",
     "text": [
      "/scratch/aseth7/conda-envs/dm-proj/lib/python3.10/site-packages/transformers/models/auto/auto_factory.py:471: FutureWarning: The `use_auth_token` argument is deprecated and will be removed in v5 of Transformers. Please use `token` instead.\n",
      "  warnings.warn(\n"
     ]
    },
    {
     "data": {
      "application/vnd.jupyter.widget-view+json": {
       "model_id": "4f93a264d9954da196871d0be233ef38",
       "version_major": 2,
       "version_minor": 0
      },
      "text/plain": [
       "Loading checkpoint shards:   0%|          | 0/4 [00:00<?, ?it/s]"
      ]
     },
     "metadata": {},
     "output_type": "display_data"
    }
   ],
   "source": [
    "print(\"Loading model and tokenizer...\")\n",
    "tokenizer = AutoTokenizer.from_pretrained(MODEL_NAME, use_auth_token=True)\n",
    "model = AutoModelForCausalLM.from_pretrained(MODEL_NAME, device_map=\"auto\", torch_dtype=torch.float16, use_auth_token=True)"
   ]
  },
  {
   "cell_type": "code",
   "execution_count": 6,
   "metadata": {},
   "outputs": [],
   "source": [
    "device = torch.device(\"cuda\" if torch.cuda.is_available() else \"cpu\")"
   ]
  },
  {
   "cell_type": "code",
   "execution_count": 7,
   "metadata": {},
   "outputs": [
    {
     "name": "stdout",
     "output_type": "stream",
     "text": [
      "Creating text-generation pipeline...\n"
     ]
    }
   ],
   "source": [
    "# Step 2: Create a text-generation pipeline\n",
    "print(\"Creating text-generation pipeline...\")\n",
    "generation_pipeline = pipeline(\n",
    "    \"text-generation\",\n",
    "    model=model,\n",
    "    tokenizer=tokenizer,\n",
    "    # device=device\n",
    ")\n"
   ]
  },
  {
   "cell_type": "code",
   "execution_count": 8,
   "metadata": {},
   "outputs": [],
   "source": [
    "terminators = [\n",
    "tokenizer.eos_token_id,\n",
    "tokenizer.convert_tokens_to_ids(\"<|eot_id|>\")\n",
    "]"
   ]
  },
  {
   "cell_type": "code",
   "execution_count": 34,
   "metadata": {},
   "outputs": [
    {
     "name": "stdout",
     "output_type": "stream",
     "text": [
      "Loading MMLU dataset...\n"
     ]
    }
   ],
   "source": [
    "print(\"Loading MMLU dataset...\")\n",
    "dataset = load_dataset(\"cais/mmlu\", \"all\")"
   ]
  },
  {
   "cell_type": "code",
   "execution_count": 10,
   "metadata": {},
   "outputs": [],
   "source": [
    "# def evaluate_on_mmlu(model_pipeline, dataset, num_samples=None, batch_size=8):\n",
    "#     total_correct = 0\n",
    "#     total_questions = 0\n",
    "#     subject_results = defaultdict(lambda: {\"correct\": 0, \"total\": 0})\n",
    "#     csv_results = []\n",
    "\n",
    "#     print(\"Evaluating on MMLU...\")\n",
    "#     # Limit dataset size if num_samples is provided\n",
    "#     if num_samples:\n",
    "#         dataset['test'] = dataset['test'].select(range(num_samples))\n",
    "\n",
    "#     for batch_start in range(0, len(dataset['test']), batch_size):\n",
    "#         batch = dataset['test'].select(range(batch_start, min(batch_start + batch_size, len(dataset['test']))))\n",
    "#         inputs = []\n",
    "#         print(f\"Processing batch {batch_start + 1} - {batch_start + len(batch)}...\")\n",
    "#         for i in range(len(batch)):\n",
    "#             question = batch[\"question\"][i]\n",
    "#             choices = batch[\"choices\"][i]\n",
    "#             correct_answer = batch[\"answer\"][i]\n",
    "#             subject = batch[\"subject\"][i]\n",
    "\n",
    "#             prompt = (\n",
    "#                 f\"Question: {question}\\n\"\n",
    "#                 f\"Choices: {', '.join(choices)}\\n\"\n",
    "#                 \"Think step-by-step. Please provide your answer in the format 'Steps: [steps]; Answer: [choice]'.\"\n",
    "#             )\n",
    "#             inputs.append(prompt)\n",
    "\n",
    "#         # Generate predictions in batch\n",
    "#         outputs = model_pipeline(\n",
    "#             inputs, \n",
    "#             max_length=2048, \n",
    "#             num_return_sequences=1,\n",
    "#             return_full_text=False\n",
    "#         )\n",
    "\n",
    "#         for i, output in enumerate(outputs):\n",
    "#             question = batch[\"question\"][i]\n",
    "#             choices = batch[\"choices\"][i]\n",
    "#             correct_choice = choices[batch[\"answer\"][i]]\n",
    "#             subject = batch[\"subject\"][i]\n",
    "#             print(f\"\\nQuestion: {question}\")\n",
    "#             print(f\"Choices: {', '.join(choices)}\")\n",
    "#             print(f\"Correct Answer: {correct_choice}\")\n",
    "#             print(f\"Prediction: {output[0]['generated_text']}\")\n",
    "\n",
    "#             # Parse the answer from model output\n",
    "#             print(\"DEBUG: \", output)\n",
    "#             prediction = output[0][\"generated_text\"]\n",
    "#             if \"Answer:\" in prediction:\n",
    "#                 prediction = prediction.split(\"Answer:\")[-1].strip()\n",
    "#             else:\n",
    "#                 prediction = \"\"\n",
    "\n",
    "#             # Check correctness\n",
    "#             is_correct = (prediction == correct_choice)\n",
    "#             if is_correct:\n",
    "#                 total_correct += 1\n",
    "#                 subject_results[subject][\"correct\"] += 1\n",
    "#             subject_results[subject][\"total\"] += 1\n",
    "#             total_questions += 1\n",
    "\n",
    "#             # Save question result to CSV results\n",
    "#             csv_results.append({\n",
    "#                 \"subject\": subject,\n",
    "#                 \"question\": question,\n",
    "#                 \"choices\": choices,\n",
    "#                 \"correct_answer\": correct_choice,\n",
    "#                 \"prediction\": prediction,\n",
    "#                 \"is_correct\": is_correct\n",
    "#             })\n",
    "\n",
    "#     # Calculate overall accuracy\n",
    "#     overall_accuracy = total_correct / total_questions if total_questions > 0 else 0\n",
    "\n",
    "#     # Print per-subject results\n",
    "#     print(\"\\nPer-Subject Accuracy:\")\n",
    "#     for subject, result in subject_results.items():\n",
    "#         subject_accuracy = result[\"correct\"] / result[\"total\"] if result[\"total\"] > 0 else 0\n",
    "#         print(f\"{subject}: {subject_accuracy * 100:.2f}%\")\n",
    "\n",
    "#     # Print overall accuracy\n",
    "#     print(f\"\\nOverall Accuracy: {overall_accuracy * 100:.2f}%\")\n",
    "\n",
    "#     return overall_accuracy, subject_results, csv_results"
   ]
  },
  {
   "cell_type": "code",
   "execution_count": 41,
   "metadata": {},
   "outputs": [],
   "source": [
    "from collections import defaultdict\n",
    "\n",
    "\n",
    "def generate_prompt(subject, examples, actual_question, actual_choices):\n",
    "    \"\"\"\n",
    "    Generates a prompt with examples followed by the actual question.\n",
    "    \"\"\"\n",
    "    example_str = \"\"\n",
    "    for example in examples:\n",
    "        example_str += (\n",
    "            f\"Example:\\n\"\n",
    "            f\"Question: {example['question']}\\n\"\n",
    "            f\"Choices: {example['choices']}\\n\"\n",
    "            f\"Answer: {example['answer']}\\n\\n\"\n",
    "        )\n",
    "\n",
    "    prompt = [\n",
    "        {\"role\": \"system\", \"content\": \"You are a helpful assistant that provides detailed and thoughtful responses.\"},\n",
    "        {\"role\": \"user\", \"content\": f\"Following is a multiple-choice question on {subject}. Think step-by-step and return the correct answer choice. Return your answer in the format Steps: [steps] \\nAnswer: [choice].\"},\n",
    "        {\"role\": \"user\", \"content\": (\n",
    "            f\"{example_str}\"\n",
    "            f\"Question: {actual_question}\\n\"\n",
    "            f\"Choices: {actual_choices}\\n\"\n",
    "            f\"Answer:\"\n",
    "        )}\n",
    "    ]\n",
    "    return prompt\n",
    "\n",
    "\n",
    "def evaluate_on_mmlu(generator, dataset, num_samples=None, batch_size=8):\n",
    "    \"\"\"\n",
    "    Evaluate the model on the MMLU dataset using the correct prompt structure.\n",
    "    \"\"\"\n",
    "    total_correct = 0\n",
    "    total_questions = 0\n",
    "    subject_results = defaultdict(lambda: {\"correct\": 0, \"total\": 0})\n",
    "\n",
    "    print(\"Evaluating on MMLU...\")\n",
    "    if num_samples:\n",
    "        dataset['test'] = dataset['test'].select(range(num_samples))\n",
    "\n",
    "    for batch_start in range(0, len(dataset['test']), batch_size):\n",
    "        batch = dataset['test'].select(range(batch_start, min(batch_start + batch_size, len(dataset['test']))))\n",
    "        \n",
    "        for i in range(len(batch)):\n",
    "            # Extract details for the current test question\n",
    "            question = batch[\"question\"][i]\n",
    "            choices = \" \".join([f\"{j + 1}. {choice}\" for j, choice in enumerate(batch[\"choices\"][i])])\n",
    "            correct_answer_index = batch[\"answer\"][i]\n",
    "            subject = batch[\"subject\"][i]\n",
    "            correct_choice = batch[\"choices\"][i][correct_answer_index]\n",
    "\n",
    "            # Select examples for the prompt\n",
    "            examples = dataset[\"dev\"].filter(lambda ex: ex[\"subject\"] == subject)\n",
    "            examples = [\n",
    "                {\n",
    "                    \"question\": ex[\"question\"],\n",
    "                    \"choices\": \" \".join([f\"{j + 1}. {choice}\" for j, choice in enumerate(ex[\"choices\"])]),\n",
    "                    \"answer\": f\"{ex['answer'] + 1}\"  # Convert to 1-based index for display\n",
    "                }\n",
    "                for ex in examples\n",
    "            ][:3]\n",
    "\n",
    "            # Generate the prompt\n",
    "            prompt = generate_prompt(subject, examples, question, choices)\n",
    "\n",
    "            # Generate prediction\n",
    "            generation = generator(prompt, max_new_tokens=1000, do_sample=False)\n",
    "            raw_output = generation[0]['generated_text'][3]['content']\n",
    "            print(f\"\\nRaw Model Output:\\n{raw_output}\\n\")\n",
    "\n",
    "            # Extract the model's answer\n",
    "            if \"Answer:\" in raw_output:\n",
    "                prediction = raw_output.split(\"Answer:\")[-1].strip().split(\"\\n\")[0].strip()\n",
    "            else:\n",
    "                prediction = \"\"\n",
    "\n",
    "            # Check correctness\n",
    "            is_correct = prediction == f\"{correct_answer_index + 1}\"  # Compare as 1-based index\n",
    "            total_correct += int(is_correct)\n",
    "            subject_results[subject][\"correct\"] += int(is_correct)\n",
    "            subject_results[subject][\"total\"] += 1\n",
    "            total_questions += 1\n",
    "\n",
    "            print(f\"Question: {question}\")\n",
    "            print(f\"Choices: {choices}\")\n",
    "            print(f\"Prediction: {prediction}\")\n",
    "            print(f\"Correct: {correct_choice} (Answer: {correct_answer_index + 1})\\n\")\n",
    "\n",
    "    # Calculate overall accuracy\n",
    "    overall_accuracy = total_correct / total_questions if total_questions > 0 else 0\n",
    "    print(f\"\\nOverall Accuracy: {overall_accuracy * 100:.2f}%\")\n",
    "\n",
    "    # Per-subject accuracy\n",
    "    print(\"\\nPer-Subject Accuracy:\")\n",
    "    for subject, result in subject_results.items():\n",
    "        accuracy = (result[\"correct\"] / result[\"total\"]) * 100 if result[\"total\"] > 0 else 0\n",
    "        print(f\"{subject}: {accuracy:.2f}%\")\n",
    "\n",
    "    return overall_accuracy, subject_results"
   ]
  },
  {
   "cell_type": "code",
   "execution_count": 42,
   "metadata": {},
   "outputs": [
    {
     "name": "stderr",
     "output_type": "stream",
     "text": [
      "Setting `pad_token_id` to `eos_token_id`:None for open-end generation.\n"
     ]
    },
    {
     "name": "stdout",
     "output_type": "stream",
     "text": [
      "Evaluating on MMLU...\n"
     ]
    },
    {
     "name": "stderr",
     "output_type": "stream",
     "text": [
      "Setting `pad_token_id` to `eos_token_id`:None for open-end generation.\n"
     ]
    },
    {
     "name": "stdout",
     "output_type": "stream",
     "text": [
      "\n",
      "Raw Model Output:\n",
      "Steps: \n",
      "1. First, we need to simplify the expression sqrt(18). \n",
      "   We can write sqrt(18) as sqrt(9 * 2) = 3 * sqrt(2).\n",
      "2. Now, we have the field extension Q(sqrt(2), sqrt(3), 3 * sqrt(2)).\n",
      "3. Since 3 * sqrt(2) is already in the field Q(sqrt(2), sqrt(3)), we don't need to extend the field further.\n",
      "4. The degree of the field extension is the number of elements in a basis for the extension field over the base field.\n",
      "5. The basis for Q(sqrt(2), sqrt(3)) over Q is {1, sqrt(2), sqrt(3), sqrt(6)}.\n",
      "6. The basis for Q(sqrt(2), sqrt(3), 3 * sqrt(2)) over Q(sqrt(2), sqrt(3)) is {1}.\n",
      "7. Therefore, the degree of the field extension Q(sqrt(2), sqrt(3), sqrt(18)) over Q is the degree of Q(sqrt(2), sqrt(3)) over Q, which is 4.\n",
      "\n",
      "Answer: 2\n",
      "\n",
      "Question: Find the degree for the given field extension Q(sqrt(2), sqrt(3), sqrt(18)) over Q.\n",
      "Choices: 1. 0 2. 4 3. 2 4. 6\n",
      "Prediction: 2\n",
      "Correct: 4 (Answer: 2)\n",
      "\n"
     ]
    },
    {
     "name": "stderr",
     "output_type": "stream",
     "text": [
      "Setting `pad_token_id` to `eos_token_id`:None for open-end generation.\n"
     ]
    },
    {
     "name": "stdout",
     "output_type": "stream",
     "text": [
      "\n",
      "Raw Model Output:\n",
      "To find the index of <p> in S_5, we first need to determine the order of the subgroup generated by p.\n",
      "\n",
      "The given permutation p = (1, 2, 5, 4)(2, 3) can be written as a product of disjoint cycles. \n",
      "\n",
      "The cycle (1, 2, 5, 4) has a length of 4, and the cycle (2, 3) has a length of 2. \n",
      "\n",
      "Since the lengths of the disjoint cycles are relatively prime (4 and 2 are coprime), the order of the permutation p is the product of the lengths of the disjoint cycles, which is 4 * 2 = 8.\n",
      "\n",
      "Now, we need to find the index of the subgroup <p> in S_5. The index of a subgroup H in a group G is given by the formula:\n",
      "\n",
      "|G| / |H|\n",
      "\n",
      "where |G| is the order of the group G and |H| is the order of the subgroup H.\n",
      "\n",
      "In this case, the order of S_5 is 5! = 120, and the order of the subgroup <p> is 8.\n",
      "\n",
      "So, the index of <p> in S_5 is:\n",
      "\n",
      "|S_5| / |<p>| = 120 / 8 = 15\n",
      "\n",
      "However, this is not among the given choices. We need to consider the fact that the index of a subgroup is always a divisor of the order of the group. \n",
      "\n",
      "Since 15 is not among the given choices, we need to consider the fact that the index of a subgroup can be a multiple of the order of the subgroup. \n",
      "\n",
      "In this case, the order of the subgroup <p> is 8, and the order of S_5 is 120. \n",
      "\n",
      "We can see that 120 / 8 = 15, but 15 is not among the given choices. However, 120 / 8 * 8 / 8 = 120 / 8 * 8 / 8 = 15 * 8 / 8 = 15. However, 15 * 8 / 8 = 15. However, 15 is not among the given choices. However, 120 / 8 = 15. However, 15 is not among the given choices. However, 120 / 8 = 15. However, 15 is not among the given choices. However, 120 / 8 = 15. However, 15 is not among the given choices. However, 120 / 8 = 15. However, 15 is not among the given choices. However, 120 / 8 = 15. However, 15 is not among the given choices. However, 120 / 8 = 15. However, 15 is not among the given choices. However, 120 / 8 = 15. However, 15 is not among the given choices. However, 120 / 8 = 15. However, 15 is not among the given choices. However, 120 / 8 = 15. However, 15 is not among the given choices. However, 120 / 8 = 15. However, 15 is not among the given choices. However, 120 / 8 = 15. However, 15 is not among the given choices. However, 120 / 8 = 15. However, 15 is not among the given choices. However, 120 / 8 = 15. However, 15 is not among the given choices. However, 120 / 8 = 15. However, 15 is not among the given choices. However, 120 / 8 = 15. However, 15 is not among the given choices. However, 120 / 8 = 15. However, 15 is not among the given choices. However, 120 / 8 = 15. However, 15 is not among the given choices. However, 120 / 8 = 15. However, 15 is not among the given choices. However, 120 / 8 = 15. However, 15 is not among the given choices. However, 120 / 8 = 15. However, 15 is not among the given choices. However, 120 / 8 = 15. However, 15 is not among the given choices. However, 120 / 8 = 15. However, 15 is not among the given choices. However, 120 / 8 = 15. However, 15 is not among the given choices. However, 120 / 8 = 15. However, 15 is not among the given choices. However, 120 / 8 = 15. However, \n",
      "\n",
      "Question: Let p = (1, 2, 5, 4)(2, 3) in S_5 . Find the index of <p> in S_5.\n",
      "Choices: 1. 8 2. 2 3. 24 4. 120\n",
      "Prediction: \n",
      "Correct: 24 (Answer: 3)\n",
      "\n"
     ]
    },
    {
     "name": "stderr",
     "output_type": "stream",
     "text": [
      "Setting `pad_token_id` to `eos_token_id`:None for open-end generation.\n"
     ]
    },
    {
     "name": "stdout",
     "output_type": "stream",
     "text": [
      "\n",
      "Raw Model Output:\n",
      "To find the zeros of the polynomial x^5 + 3x^3 + x^2 + 2x in Z_5, we need to check each element of Z_5 to see if it is a zero of the polynomial.\n",
      "\n",
      "Z_5 = {0, 1, 2, 3, 4}\n",
      "\n",
      "We can plug each element into the polynomial and check if the result is 0.\n",
      "\n",
      "1. x = 0: 0^5 + 3(0)^3 + 0^2 + 2(0) = 0\n",
      "2. x = 1: 1^5 + 3(1)^3 + 1^2 + 2(1) = 1 + 3 + 1 + 2 = 7 ≡ 2 (mod 5)\n",
      "3. x = 2: 2^5 + 3(2)^3 + 2^2 + 2(2) = 32 + 24 + 4 + 4 = 64 ≡ 4 (mod 5)\n",
      "4. x = 3: 3^5 + 3(3)^3 + 3^2 + 2(3) = 243 + 81 + 9 + 6 = 339 ≡ 4 (mod 5)\n",
      "5. x = 4: 4^5 + 3(4)^3 + 4^2 + 2(4) = 1024 + 192 + 16 + 8 = 1240 ≡ 0 (mod 5)\n",
      "\n",
      "So, the zeros of the polynomial in Z_5 are 0 and 4.\n",
      "\n",
      "Steps: [Check each element of Z_5 to see if it is a zero of the polynomial]\n",
      "Answer: 4\n",
      "\n",
      "Question: Find all zeros in the indicated finite field of the given polynomial with coefficients in that field. x^5 + 3x^3 + x^2 + 2x in Z_5\n",
      "Choices: 1. 0 2. 1 3. 0,1 4. 0,4\n",
      "Prediction: 4\n",
      "Correct: 0,4 (Answer: 4)\n",
      "\n"
     ]
    },
    {
     "name": "stderr",
     "output_type": "stream",
     "text": [
      "Setting `pad_token_id` to `eos_token_id`:None for open-end generation.\n"
     ]
    },
    {
     "name": "stdout",
     "output_type": "stream",
     "text": [
      "\n",
      "Raw Model Output:\n",
      "Steps: \n",
      "1. A factor group of a non-Abelian group can be Abelian if the normal subgroup is Abelian.\n",
      "2. If K is a normal subgroup of H and H is a normal subgroup of G, then K is indeed a normal subgroup of G.\n",
      "3. Therefore, Statement 1 is False and Statement 2 is True.\n",
      "\n",
      "Answer: 2\n",
      "\n",
      "Question: Statement 1 | A factor group of a non-Abelian group is non-Abelian. Statement 2 | If K is a normal subgroup of H and H is a normal subgroup of G, then K is a normal subgroup of G.\n",
      "Choices: 1. True, True 2. False, False 3. True, False 4. False, True\n",
      "Prediction: 2\n",
      "Correct: False, False (Answer: 2)\n",
      "\n",
      "\n",
      "Raw Model Output:\n",
      "To find the product of the given polynomials in the given polynomial ring, we need to multiply them.\n",
      "\n",
      "f(x) = 4x - 5\n",
      "g(x) = 2x^2 - 4x + 2\n",
      "\n",
      "First, multiply each term of f(x) by each term of g(x):\n",
      "\n",
      "(4x)(2x^2) = 8x^3\n",
      "(4x)(-4x) = -16x^2\n",
      "(4x)(2) = 8x\n",
      "(-5)(2x^2) = -10x^2\n",
      "(-5)(-4x) = 20x\n",
      "(-5)(2) = -10\n",
      "\n",
      "Now, combine like terms:\n",
      "\n",
      "8x^3 - 16x^2 + 8x - 10x^2 + 20x - 10\n",
      "Combine like terms:\n",
      "8x^3 - 26x^2 + 28x - 10\n",
      "\n",
      "Now, reduce the coefficients modulo 8:\n",
      "8x^3 ≡ 0x^3 (mod 8)\n",
      "-26x^2 ≡ 2x^2 (mod 8)\n",
      "28x ≡ 4x (mod 8)\n",
      "-10 ≡ 6 (mod 8)\n",
      "\n",
      "So, the product is 0x^3 + 2x^2 + 4x + 6.\n",
      "\n",
      "Steps: Multiply each term of f(x) by each term of g(x), combine like terms, and reduce the coefficients modulo 8.\n",
      "Answer: 2\n",
      "\n",
      "Question: Find the product of the given polynomials in the given polynomial ring. f(x) = 4x - 5, g(x) = 2x^2 - 4x + 2 in Z_8[x].\n",
      "Choices: 1. 2x^2 + 5 2. 6x^2 + 4x + 6 3. 0 4. x^2 + 1\n",
      "Prediction: 2\n",
      "Correct: 6x^2 + 4x + 6 (Answer: 2)\n",
      "\n",
      "\n",
      "Overall Accuracy: 80.00%\n",
      "\n",
      "Per-Subject Accuracy:\n",
      "abstract_algebra: 80.00%\n"
     ]
    }
   ],
   "source": [
    "overall_accuracy, subject_results = evaluate_on_mmlu(generation_pipeline, dataset, num_samples=5)"
   ]
  },
  {
   "cell_type": "code",
   "execution_count": 12,
   "metadata": {},
   "outputs": [
    {
     "name": "stdout",
     "output_type": "stream",
     "text": [
      "test\n",
      "validation\n",
      "dev\n",
      "auxiliary_train\n"
     ]
    }
   ],
   "source": [
    "for i, sample in enumerate(dataset):\n",
    "    print(sample)"
   ]
  },
  {
   "cell_type": "code",
   "execution_count": null,
   "metadata": {},
   "outputs": [
    {
     "data": {
      "text/plain": [
       "{'question': 'Find the degree for the given field extension Q(sqrt(2), sqrt(3), sqrt(18)) over Q.',\n",
       " 'subject': 'abstract_algebra',\n",
       " 'choices': ['0', '4', '2', '6'],\n",
       " 'answer': 1}"
      ]
     },
     "execution_count": 22,
     "metadata": {},
     "output_type": "execute_result"
    }
   ],
   "source": [
    "dataset['test'][100]"
   ]
  },
  {
   "cell_type": "code",
   "execution_count": 38,
   "metadata": {},
   "outputs": [
    {
     "data": {
      "text/plain": [
       "{'question': 'Find the product of the given polynomials in the given polynomial ring. f(x) = 4x - 5, g(x) = 2x^2 - 4x + 2 in Z_8[x].',\n",
       " 'subject': 'abstract_algebra',\n",
       " 'choices': ['2x^2 + 5', '6x^2 + 4x + 6', '0', 'x^2 + 1'],\n",
       " 'answer': 1}"
      ]
     },
     "execution_count": 38,
     "metadata": {},
     "output_type": "execute_result"
    }
   ],
   "source": [
    "dataset['test'].select(range(5))[4]"
   ]
  },
  {
   "cell_type": "code",
   "execution_count": null,
   "metadata": {},
   "outputs": [],
   "source": []
  }
 ],
 "metadata": {
  "kernelspec": {
   "display_name": "dm-proj",
   "language": "python",
   "name": "python3"
  },
  "language_info": {
   "codemirror_mode": {
    "name": "ipython",
    "version": 3
   },
   "file_extension": ".py",
   "mimetype": "text/x-python",
   "name": "python",
   "nbconvert_exporter": "python",
   "pygments_lexer": "ipython3",
   "version": "3.10.15"
  }
 },
 "nbformat": 4,
 "nbformat_minor": 2
}
